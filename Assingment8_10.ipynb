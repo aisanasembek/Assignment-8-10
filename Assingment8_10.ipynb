{
 "cells": [
  {
   "cell_type": "code",
   "execution_count": 7,
   "id": "99e09a45",
   "metadata": {},
   "outputs": [
    {
     "name": "stderr",
     "output_type": "stream",
     "text": [
      "C:\\Users\\acer\\AppData\\Local\\Temp\\ipykernel_22908\\2884555190.py:13: FutureWarning: A value is trying to be set on a copy of a DataFrame or Series through chained assignment using an inplace method.\n",
      "The behavior will change in pandas 3.0. This inplace method will never work because the intermediate object on which we are setting values always behaves as a copy.\n",
      "\n",
      "For example, when doing 'df[col].method(value, inplace=True)', try using 'df.method({col: value}, inplace=True)' or df[col] = df[col].method(value) instead, to perform the operation inplace on the original object.\n",
      "\n",
      "\n",
      "  df_cleaned['Discount'].fillna(0.0, inplace=True)\n"
     ]
    },
    {
     "name": "stdout",
     "output_type": "stream",
     "text": [
      "Missing values before deletion:\n",
      "\n",
      "          Column  Missing Values\n",
      "0      Ship Mode               0\n",
      "1        Segment               1\n",
      "2        Country               2\n",
      "3           City              10\n",
      "4          State              13\n",
      "5    Postal Code              34\n",
      "6         Region               1\n",
      "7       Category              25\n",
      "8   Sub-Category              23\n",
      "9          Sales              15\n",
      "10      Quantity               4\n",
      "11      Discount               0\n",
      "12        Profit              17\n",
      "\n",
      "Cleaned file saved as Cleaned_Sample_Superstore.xlsx\n",
      "Final shape: (9839, 13)\n",
      "Missing values after cleaning:\n",
      "\n",
      "Ship Mode       0\n",
      "Segment         0\n",
      "Country         0\n",
      "City            0\n",
      "State           0\n",
      "Postal Code     0\n",
      "Region          0\n",
      "Category        0\n",
      "Sub-Category    0\n",
      "Sales           0\n",
      "Quantity        0\n",
      "Discount        0\n",
      "Profit          0\n",
      "dtype: int64\n"
     ]
    }
   ],
   "source": [
    "import pandas as pd\n",
    "\n",
    "# Load original Excel file\n",
    "df_original = pd.read_excel(\"Uncleaned Sample Superstore.xlsx\", sheet_name=\"Sample Superstore\")\n",
    "\n",
    "# Make a copy for cleaning\n",
    "df_cleaned = df_original.copy()\n",
    "\n",
    "# 1. Remove duplicates\n",
    "df_cleaned.drop_duplicates(inplace=True)\n",
    "\n",
    "# 2. Fill missing values in 'Discount' with 0.0\n",
    "df_cleaned['Discount'].fillna(0.0, inplace=True)\n",
    "\n",
    "# 3. Check missing values BEFORE deletion\n",
    "missing_report = df_cleaned.isnull().sum().reset_index()\n",
    "missing_report.columns = ['Column', 'Missing Values']\n",
    "print(\"Missing values before deletion:\\n\")\n",
    "print(missing_report)\n",
    "\n",
    "# 4. Drop rows with any remaining missing values\n",
    "df_cleaned.dropna(inplace=True)\n",
    "\n",
    "# 5. Convert Postal Code to string\n",
    "df_cleaned['Postal Code'] = df_cleaned['Postal Code'].astype(str)\n",
    "\n",
    "# 6. Reset index\n",
    "df_cleaned.reset_index(drop=True, inplace=True)\n",
    "\n",
    "# 7. Save cleaned data to a new Excel file\n",
    "df_cleaned.to_excel(\"Cleaned_Sample_Superstore.xlsx\", index=False)\n",
    "\n",
    "# 8. Final summary\n",
    "print(\"\\nCleaned file saved as Cleaned_Sample_Superstore.xlsx\")\n",
    "print(\"Final shape:\", df_cleaned.shape)\n",
    "print(\"Missing values after cleaning:\\n\")\n",
    "print(df_cleaned.isnull().sum())\n"
   ]
  },
  {
   "cell_type": "code",
   "execution_count": null,
   "id": "906a415c",
   "metadata": {},
   "outputs": [],
   "source": []
  }
 ],
 "metadata": {
  "kernelspec": {
   "display_name": "Python 3 (ipykernel)",
   "language": "python",
   "name": "python3"
  },
  "language_info": {
   "codemirror_mode": {
    "name": "ipython",
    "version": 3
   },
   "file_extension": ".py",
   "mimetype": "text/x-python",
   "name": "python",
   "nbconvert_exporter": "python",
   "pygments_lexer": "ipython3",
   "version": "3.10.0"
  }
 },
 "nbformat": 4,
 "nbformat_minor": 5
}
